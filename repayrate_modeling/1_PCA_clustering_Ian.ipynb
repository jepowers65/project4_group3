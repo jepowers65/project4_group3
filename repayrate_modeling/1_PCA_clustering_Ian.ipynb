{
 "cells": [
  {
   "cell_type": "code",
   "execution_count": null,
   "id": "bdc4fedb",
   "metadata": {},
   "outputs": [],
   "source": [
    "# Import dependencies\n",
    "import pandas as pd\n",
    "from pathlib import Path\n",
    "import hvplot.pandas\n",
    "from sklearn.cluster import KMeans\n",
    "from sklearn.preprocessing import StandardScaler"
   ]
  },
  {
   "cell_type": "code",
   "execution_count": null,
   "id": "d4ee3faf",
   "metadata": {},
   "outputs": [],
   "source": [
    "# Read in the CSV file as a Pandas DataFrame\n",
    "\n",
    "data_df = pd.read_csv(\n",
    "    Path(\"data/Most-Recent-Cohorts-Institution.csv\")\n",
    ")\n",
    "\n",
    "# Review the DataFrame\n",
    "data_df.head()"
   ]
  },
  {
   "cell_type": "code",
   "execution_count": null,
   "id": "eb12c793",
   "metadata": {},
   "outputs": [],
   "source": [
    "#select columns to keeps\n",
    "desired_columns = ['UNITID', 'STABBR', 'HIGHDEG','CONTROL', 'ADM_RATE_ALL', 'COSTT4_A', 'TUITIONFEE_IN', 'TUITIONFEE_OUT','MD_EARN_WNE_P10','COMPL_RPY_3YR_RT' \n",
    "                ]\n",
    "only_cols = data_df.loc[:, desired_columns]\n",
    "\n",
    "only_cols.head()"
   ]
  },
  {
   "cell_type": "code",
   "execution_count": null,
   "id": "199acc3c",
   "metadata": {},
   "outputs": [],
   "source": [
    "only_cols.info()"
   ]
  },
  {
   "cell_type": "code",
   "execution_count": null,
   "id": "e0adfed9",
   "metadata": {},
   "outputs": [],
   "source": [
    "#drop NA values\n",
    "column_names = ['UNITID', 'STABBR', 'HIGHDEG', 'CONTROL', 'ADM_RATE_ALL', 'COSTT4_A', 'TUITIONFEE_IN', 'TUITIONFEE_OUT', 'MD_EARN_WNE_P10', 'COMPL_RPY_3YR_RT']\n",
    "\n",
    "# Initialize the DataFrame 'cleaned_df' as a copy of 'only_cols'\n",
    "cleaned_df = only_cols.copy()\n",
    "\n",
    "# Iterate through the specified columns and drop rows with NaN values in each column\n",
    "for col in column_names:\n",
    "    cleaned_df = cleaned_df[cleaned_df[col].notna()]\n"
   ]
  },
  {
   "cell_type": "code",
   "execution_count": null,
   "id": "9c6f95ac",
   "metadata": {},
   "outputs": [],
   "source": [
    "cleaned_df = cleaned_df [cleaned_df ['COMPL_RPY_3YR_RT'] != 'PrivacySuppressed']\n",
    "cleaned_df.head()"
   ]
  },
  {
   "cell_type": "code",
   "execution_count": null,
   "id": "247001dd",
   "metadata": {},
   "outputs": [],
   "source": [
    "cleaned_df.nunique()"
   ]
  },
  {
   "cell_type": "code",
   "execution_count": null,
   "id": "e7bec7f6",
   "metadata": {},
   "outputs": [],
   "source": [
    "#change COMPL data type from object to float\n",
    "cleaned_df['COMPL_RPY_3YR_RT'] = cleaned_df['COMPL_RPY_3YR_RT'].astype(float)\n",
    "cleaned_df.head()"
   ]
  },
  {
   "cell_type": "code",
   "execution_count": null,
   "id": "0059cfea",
   "metadata": {},
   "outputs": [],
   "source": [
    "cleaned_df.info()"
   ]
  },
  {
   "cell_type": "code",
   "execution_count": null,
   "id": "87b87011",
   "metadata": {},
   "outputs": [],
   "source": [
    "Nan_values = cleaned_df.isna().sum()\n",
    "Nan_values"
   ]
  },
  {
   "cell_type": "code",
   "execution_count": null,
   "id": "6de071d5",
   "metadata": {},
   "outputs": [],
   "source": [
    "len(cleaned_df)"
   ]
  },
  {
   "cell_type": "code",
   "execution_count": null,
   "id": "3d6a6fc2",
   "metadata": {},
   "outputs": [],
   "source": [
    "# Scaling the numeric columns\n",
    "cleaned_df_scaled = StandardScaler().fit_transform(cleaned_df[['HIGHDEG','CONTROL', 'ADM_RATE_ALL', 'COSTT4_A', 'TUITIONFEE_IN', 'TUITIONFEE_OUT','MD_EARN_WNE_P10','COMPL_RPY_3YR_RT']])\n",
    "# Creating a DataFrame with with the scaled data\n",
    "df_transformed = pd.DataFrame(cleaned_df_scaled, columns=['HIGHDEG','CONTROL', 'ADM_RATE_ALL', 'COSTT4_A', 'TUITIONFEE_IN', 'TUITIONFEE_OUT','MD_EARN_WNE_P10','COMPL_RPY_3YR_RT'])\n",
    "\n",
    "# Display sample data\n",
    "df_transformed.head()"
   ]
  },
  {
   "cell_type": "code",
   "execution_count": null,
   "id": "fedca43c",
   "metadata": {},
   "outputs": [],
   "source": [
    "from sklearn.decomposition import PCA\n",
    "from sklearn.cluster import KMeans"
   ]
  },
  {
   "cell_type": "code",
   "execution_count": null,
   "id": "78c022ec",
   "metadata": {},
   "outputs": [],
   "source": [
    "# Instantiate the PCA instance and declare the number of PCA variables\n",
    "pca=PCA(n_components=2)"
   ]
  },
  {
   "cell_type": "code",
   "execution_count": null,
   "id": "c2527a57",
   "metadata": {},
   "outputs": [],
   "source": [
    "# Fit the PCA model on the transformed student dataframe\n",
    "data_pca = pca.fit_transform(df_transformed)\n",
    "\n",
    "# Review the first 5 rows of the array of list data\n",
    "data_pca[:5]"
   ]
  },
  {
   "cell_type": "code",
   "execution_count": null,
   "id": "4362e02e",
   "metadata": {},
   "outputs": [],
   "source": [
    "# Calculate the PCA explained variance ratio\n",
    "pca.explained_variance_ratio_\n",
    "#about 68% of the total variance is condensed into the 2 PCA variables."
   ]
  },
  {
   "cell_type": "code",
   "execution_count": null,
   "id": "186d2ef0",
   "metadata": {},
   "outputs": [],
   "source": [
    "data_pca_df = pd.DataFrame(\n",
    "    data_pca,\n",
    "    columns=[\"PCA1\", \"PCA2\"]\n",
    ")\n",
    "\n",
    "# Review the PCA DataFrame\n",
    "data_pca_df.head()"
   ]
  },
  {
   "cell_type": "code",
   "execution_count": null,
   "id": "bfee05b6",
   "metadata": {},
   "outputs": [],
   "source": [
    "# Create a a list to store inertia values and the values of k\n",
    "inertia = []\n",
    "k = list(range(1, 15))"
   ]
  },
  {
   "cell_type": "code",
   "execution_count": null,
   "id": "b0439fa8",
   "metadata": {},
   "outputs": [],
   "source": [
    "# Create a for-loop where each value of k is evaluated using the K-means algorithm\n",
    "# Fit the model using the service_ratings DataFrame\n",
    "# Append the value of the computed inertia from the `inertia_` attribute of the KMeans model instance\n",
    "for i in k:\n",
    "    k_model = KMeans(n_clusters=i, random_state=0)\n",
    "    k_model.fit(data_pca_df)\n",
    "    inertia.append(k_model.inertia_)"
   ]
  },
  {
   "cell_type": "code",
   "execution_count": null,
   "id": "0454c057",
   "metadata": {},
   "outputs": [],
   "source": [
    "# Define a DataFrame to hold the values for k and the corresponding inertia\n",
    "elbow_data = {\"k\": k, \"inertia\": inertia}\n",
    "\n",
    "# Create the DataFrame from the elbow data\n",
    "df_elbow = pd.DataFrame(elbow_data)\n",
    "\n",
    "# Review the DataFrame\n",
    "df_elbow.head(15)"
   ]
  },
  {
   "cell_type": "code",
   "execution_count": null,
   "id": "6f6245b5",
   "metadata": {},
   "outputs": [],
   "source": [
    "# Plot the Elbow Curve\n",
    "df_elbow.hvplot.line(\n",
    "    x=\"k\", \n",
    "    y=\"inertia\", \n",
    "    title=\"Elbow Curve\", \n",
    "    xticks=k\n",
    ")\n"
   ]
  },
  {
   "cell_type": "code",
   "execution_count": null,
   "id": "841a1760",
   "metadata": {},
   "outputs": [],
   "source": [
    "# Define the model Kmeans model using the optimal value of k for the number of clusters.\n",
    "model = KMeans(n_clusters=4, random_state=0)\n",
    "\n",
    "# Fit the model\n",
    "model.fit(data_pca_df)\n",
    "\n",
    "# Make predictions\n",
    "k_4 = model.predict(data_pca_df)\n",
    "\n",
    "# Create a copy of the customers_pca_df DataFrame\n",
    "data_pca_predictions_df = data_pca_df.copy()\n",
    "\n",
    "# Add a class column with the labels\n",
    "data_pca_predictions_df [\"cluster\"] = k_4"
   ]
  },
  {
   "cell_type": "code",
   "execution_count": null,
   "id": "ed63ea25",
   "metadata": {},
   "outputs": [],
   "source": [
    "# Plot the clusters\n",
    "data_pca_predictions_df.hvplot.scatter(\n",
    "    x=\"PCA1\",\n",
    "    y=\"PCA2\",\n",
    "    by=\"cluster\"\n",
    ")"
   ]
  },
  {
   "cell_type": "code",
   "execution_count": null,
   "id": "6918fa4a",
   "metadata": {},
   "outputs": [],
   "source": [
    "cleaned_df.to_csv('cleaned_data.csv')"
   ]
  },
  {
   "cell_type": "code",
   "execution_count": null,
   "id": "19026067",
   "metadata": {},
   "outputs": [],
   "source": []
  }
 ],
 "metadata": {
  "kernelspec": {
   "display_name": "Python 3 (ipykernel)",
   "language": "python",
   "name": "python3"
  },
  "language_info": {
   "codemirror_mode": {
    "name": "ipython",
    "version": 3
   },
   "file_extension": ".py",
   "mimetype": "text/x-python",
   "name": "python",
   "nbconvert_exporter": "python",
   "pygments_lexer": "ipython3",
   "version": "3.10.10"
  }
 },
 "nbformat": 4,
 "nbformat_minor": 5
}
