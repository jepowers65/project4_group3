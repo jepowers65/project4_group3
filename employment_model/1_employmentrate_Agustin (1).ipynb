{
 "cells": [
  {
   "cell_type": "code",
   "execution_count": 26,
   "id": "bdc4fedb",
   "metadata": {},
   "outputs": [],
   "source": [
    "# Import dependencies\n",
    "import pandas as pd\n",
    "from pathlib import Path\n",
    "import hvplot.pandas\n",
    "from sklearn.cluster import KMeans\n",
    "from sklearn.preprocessing import StandardScaler\n",
    "from sklearn.metrics import balanced_accuracy_score, confusion_matrix, classification_report\n",
    "import matplotlib.pyplot as plt"
   ]
  },
  {
   "cell_type": "code",
   "execution_count": 27,
   "id": "d4ee3faf",
   "metadata": {},
   "outputs": [
    {
     "data": {
      "text/html": [
       "<div>\n",
       "<style scoped>\n",
       "    .dataframe tbody tr th:only-of-type {\n",
       "        vertical-align: middle;\n",
       "    }\n",
       "\n",
       "    .dataframe tbody tr th {\n",
       "        vertical-align: top;\n",
       "    }\n",
       "\n",
       "    .dataframe thead th {\n",
       "        text-align: right;\n",
       "    }\n",
       "</style>\n",
       "<table border=\"1\" class=\"dataframe\">\n",
       "  <thead>\n",
       "    <tr style=\"text-align: right;\">\n",
       "      <th></th>\n",
       "      <th>UNITID</th>\n",
       "      <th>OPEID6</th>\n",
       "      <th>INSTNM</th>\n",
       "      <th>CONTROL</th>\n",
       "      <th>MAIN</th>\n",
       "      <th>CIPCODE</th>\n",
       "      <th>CIPDESC</th>\n",
       "      <th>CREDLEV</th>\n",
       "      <th>CREDDESC</th>\n",
       "      <th>IPEDSCOUNT1</th>\n",
       "      <th>...</th>\n",
       "      <th>BBRR4_FED_COMP_N</th>\n",
       "      <th>BBRR4_FED_COMP_DFLT</th>\n",
       "      <th>BBRR4_FED_COMP_DLNQ</th>\n",
       "      <th>BBRR4_FED_COMP_FBR</th>\n",
       "      <th>BBRR4_FED_COMP_DFR</th>\n",
       "      <th>BBRR4_FED_COMP_NOPROG</th>\n",
       "      <th>BBRR4_FED_COMP_MAKEPROG</th>\n",
       "      <th>BBRR4_FED_COMP_PAIDINFULL</th>\n",
       "      <th>BBRR4_FED_COMP_DISCHARGE</th>\n",
       "      <th>DISTANCE</th>\n",
       "    </tr>\n",
       "  </thead>\n",
       "  <tbody>\n",
       "    <tr>\n",
       "      <th>0</th>\n",
       "      <td>100654.0</td>\n",
       "      <td>1002</td>\n",
       "      <td>Alabama A &amp; M University</td>\n",
       "      <td>Public</td>\n",
       "      <td>1</td>\n",
       "      <td>100</td>\n",
       "      <td>Agriculture, General.</td>\n",
       "      <td>3</td>\n",
       "      <td>Bachelor's Degree</td>\n",
       "      <td>NaN</td>\n",
       "      <td>...</td>\n",
       "      <td>PrivacySuppressed</td>\n",
       "      <td>PrivacySuppressed</td>\n",
       "      <td>PrivacySuppressed</td>\n",
       "      <td>PrivacySuppressed</td>\n",
       "      <td>PrivacySuppressed</td>\n",
       "      <td>PrivacySuppressed</td>\n",
       "      <td>PrivacySuppressed</td>\n",
       "      <td>PrivacySuppressed</td>\n",
       "      <td>PrivacySuppressed</td>\n",
       "      <td>0</td>\n",
       "    </tr>\n",
       "    <tr>\n",
       "      <th>1</th>\n",
       "      <td>100654.0</td>\n",
       "      <td>1002</td>\n",
       "      <td>Alabama A &amp; M University</td>\n",
       "      <td>Public</td>\n",
       "      <td>1</td>\n",
       "      <td>101</td>\n",
       "      <td>Agricultural Business and Management.</td>\n",
       "      <td>3</td>\n",
       "      <td>Bachelor's Degree</td>\n",
       "      <td>NaN</td>\n",
       "      <td>...</td>\n",
       "      <td>PrivacySuppressed</td>\n",
       "      <td>PrivacySuppressed</td>\n",
       "      <td>PrivacySuppressed</td>\n",
       "      <td>PrivacySuppressed</td>\n",
       "      <td>PrivacySuppressed</td>\n",
       "      <td>PrivacySuppressed</td>\n",
       "      <td>PrivacySuppressed</td>\n",
       "      <td>PrivacySuppressed</td>\n",
       "      <td>PrivacySuppressed</td>\n",
       "      <td>0</td>\n",
       "    </tr>\n",
       "    <tr>\n",
       "      <th>2</th>\n",
       "      <td>100654.0</td>\n",
       "      <td>1002</td>\n",
       "      <td>Alabama A &amp; M University</td>\n",
       "      <td>Public</td>\n",
       "      <td>1</td>\n",
       "      <td>109</td>\n",
       "      <td>Animal Sciences.</td>\n",
       "      <td>3</td>\n",
       "      <td>Bachelor's Degree</td>\n",
       "      <td>6.0</td>\n",
       "      <td>...</td>\n",
       "      <td>PrivacySuppressed</td>\n",
       "      <td>PrivacySuppressed</td>\n",
       "      <td>PrivacySuppressed</td>\n",
       "      <td>PrivacySuppressed</td>\n",
       "      <td>PrivacySuppressed</td>\n",
       "      <td>PrivacySuppressed</td>\n",
       "      <td>PrivacySuppressed</td>\n",
       "      <td>PrivacySuppressed</td>\n",
       "      <td>PrivacySuppressed</td>\n",
       "      <td>1</td>\n",
       "    </tr>\n",
       "    <tr>\n",
       "      <th>3</th>\n",
       "      <td>100654.0</td>\n",
       "      <td>1002</td>\n",
       "      <td>Alabama A &amp; M University</td>\n",
       "      <td>Public</td>\n",
       "      <td>1</td>\n",
       "      <td>110</td>\n",
       "      <td>Food Science and Technology.</td>\n",
       "      <td>3</td>\n",
       "      <td>Bachelor's Degree</td>\n",
       "      <td>7.0</td>\n",
       "      <td>...</td>\n",
       "      <td>PrivacySuppressed</td>\n",
       "      <td>PrivacySuppressed</td>\n",
       "      <td>PrivacySuppressed</td>\n",
       "      <td>PrivacySuppressed</td>\n",
       "      <td>PrivacySuppressed</td>\n",
       "      <td>PrivacySuppressed</td>\n",
       "      <td>PrivacySuppressed</td>\n",
       "      <td>PrivacySuppressed</td>\n",
       "      <td>PrivacySuppressed</td>\n",
       "      <td>1</td>\n",
       "    </tr>\n",
       "    <tr>\n",
       "      <th>4</th>\n",
       "      <td>100654.0</td>\n",
       "      <td>1002</td>\n",
       "      <td>Alabama A &amp; M University</td>\n",
       "      <td>Public</td>\n",
       "      <td>1</td>\n",
       "      <td>110</td>\n",
       "      <td>Food Science and Technology.</td>\n",
       "      <td>5</td>\n",
       "      <td>Master's Degree</td>\n",
       "      <td>8.0</td>\n",
       "      <td>...</td>\n",
       "      <td>12</td>\n",
       "      <td>PrivacySuppressed</td>\n",
       "      <td>PrivacySuppressed</td>\n",
       "      <td>PrivacySuppressed</td>\n",
       "      <td>PrivacySuppressed</td>\n",
       "      <td>PrivacySuppressed</td>\n",
       "      <td>PrivacySuppressed</td>\n",
       "      <td>PrivacySuppressed</td>\n",
       "      <td>PrivacySuppressed</td>\n",
       "      <td>1</td>\n",
       "    </tr>\n",
       "  </tbody>\n",
       "</table>\n",
       "<p>5 rows × 160 columns</p>\n",
       "</div>"
      ],
      "text/plain": [
       "     UNITID  OPEID6                    INSTNM CONTROL  MAIN  CIPCODE  \\\n",
       "0  100654.0    1002  Alabama A & M University  Public     1      100   \n",
       "1  100654.0    1002  Alabama A & M University  Public     1      101   \n",
       "2  100654.0    1002  Alabama A & M University  Public     1      109   \n",
       "3  100654.0    1002  Alabama A & M University  Public     1      110   \n",
       "4  100654.0    1002  Alabama A & M University  Public     1      110   \n",
       "\n",
       "                                 CIPDESC  CREDLEV           CREDDESC  \\\n",
       "0                  Agriculture, General.        3  Bachelor's Degree   \n",
       "1  Agricultural Business and Management.        3  Bachelor's Degree   \n",
       "2                       Animal Sciences.        3  Bachelor's Degree   \n",
       "3           Food Science and Technology.        3  Bachelor's Degree   \n",
       "4           Food Science and Technology.        5    Master's Degree   \n",
       "\n",
       "   IPEDSCOUNT1  ...   BBRR4_FED_COMP_N BBRR4_FED_COMP_DFLT  \\\n",
       "0          NaN  ...  PrivacySuppressed   PrivacySuppressed   \n",
       "1          NaN  ...  PrivacySuppressed   PrivacySuppressed   \n",
       "2          6.0  ...  PrivacySuppressed   PrivacySuppressed   \n",
       "3          7.0  ...  PrivacySuppressed   PrivacySuppressed   \n",
       "4          8.0  ...                 12   PrivacySuppressed   \n",
       "\n",
       "  BBRR4_FED_COMP_DLNQ BBRR4_FED_COMP_FBR BBRR4_FED_COMP_DFR  \\\n",
       "0   PrivacySuppressed  PrivacySuppressed  PrivacySuppressed   \n",
       "1   PrivacySuppressed  PrivacySuppressed  PrivacySuppressed   \n",
       "2   PrivacySuppressed  PrivacySuppressed  PrivacySuppressed   \n",
       "3   PrivacySuppressed  PrivacySuppressed  PrivacySuppressed   \n",
       "4   PrivacySuppressed  PrivacySuppressed  PrivacySuppressed   \n",
       "\n",
       "  BBRR4_FED_COMP_NOPROG BBRR4_FED_COMP_MAKEPROG BBRR4_FED_COMP_PAIDINFULL  \\\n",
       "0     PrivacySuppressed       PrivacySuppressed         PrivacySuppressed   \n",
       "1     PrivacySuppressed       PrivacySuppressed         PrivacySuppressed   \n",
       "2     PrivacySuppressed       PrivacySuppressed         PrivacySuppressed   \n",
       "3     PrivacySuppressed       PrivacySuppressed         PrivacySuppressed   \n",
       "4     PrivacySuppressed       PrivacySuppressed         PrivacySuppressed   \n",
       "\n",
       "  BBRR4_FED_COMP_DISCHARGE DISTANCE  \n",
       "0        PrivacySuppressed        0  \n",
       "1        PrivacySuppressed        0  \n",
       "2        PrivacySuppressed        1  \n",
       "3        PrivacySuppressed        1  \n",
       "4        PrivacySuppressed        1  \n",
       "\n",
       "[5 rows x 160 columns]"
      ]
     },
     "execution_count": 27,
     "metadata": {},
     "output_type": "execute_result"
    }
   ],
   "source": [
    "# Read in the CSV file as a Pandas DataFrame\n",
    "\n",
    "data_df = pd.read_csv(\n",
    "    Path(\"data/Most-Recent-Cohorts-Field-of-Study.csv\")\n",
    ")\n",
    "\n",
    "# Review the DataFrame\n",
    "data_df.head()"
   ]
  },
  {
   "cell_type": "code",
   "execution_count": 28,
   "id": "eb12c793",
   "metadata": {},
   "outputs": [
    {
     "data": {
      "text/html": [
       "<div>\n",
       "<style scoped>\n",
       "    .dataframe tbody tr th:only-of-type {\n",
       "        vertical-align: middle;\n",
       "    }\n",
       "\n",
       "    .dataframe tbody tr th {\n",
       "        vertical-align: top;\n",
       "    }\n",
       "\n",
       "    .dataframe thead th {\n",
       "        text-align: right;\n",
       "    }\n",
       "</style>\n",
       "<table border=\"1\" class=\"dataframe\">\n",
       "  <thead>\n",
       "    <tr style=\"text-align: right;\">\n",
       "      <th></th>\n",
       "      <th>UNITID</th>\n",
       "      <th>CIPCODE</th>\n",
       "      <th>CREDLEV</th>\n",
       "      <th>DEBT_ALL_STGP_ANY_MEAN</th>\n",
       "      <th>EARN_MDN_HI_1YR</th>\n",
       "      <th>EARN_MDN_HI_2YR</th>\n",
       "      <th>EARN_NE_MDN_3YR</th>\n",
       "      <th>EARN_CNTOVER150_3YR</th>\n",
       "      <th>EARN_COUNT_NE_3YR</th>\n",
       "    </tr>\n",
       "  </thead>\n",
       "  <tbody>\n",
       "    <tr>\n",
       "      <th>0</th>\n",
       "      <td>100654.0</td>\n",
       "      <td>100</td>\n",
       "      <td>3</td>\n",
       "      <td>PrivacySuppressed</td>\n",
       "      <td>PrivacySuppressed</td>\n",
       "      <td>PrivacySuppressed</td>\n",
       "      <td>PrivacySuppressed</td>\n",
       "      <td>PrivacySuppressed</td>\n",
       "      <td>PrivacySuppressed</td>\n",
       "    </tr>\n",
       "    <tr>\n",
       "      <th>1</th>\n",
       "      <td>100654.0</td>\n",
       "      <td>101</td>\n",
       "      <td>3</td>\n",
       "      <td>PrivacySuppressed</td>\n",
       "      <td>NaN</td>\n",
       "      <td>NaN</td>\n",
       "      <td>NaN</td>\n",
       "      <td>NaN</td>\n",
       "      <td>NaN</td>\n",
       "    </tr>\n",
       "    <tr>\n",
       "      <th>2</th>\n",
       "      <td>100654.0</td>\n",
       "      <td>109</td>\n",
       "      <td>3</td>\n",
       "      <td>PrivacySuppressed</td>\n",
       "      <td>PrivacySuppressed</td>\n",
       "      <td>PrivacySuppressed</td>\n",
       "      <td>PrivacySuppressed</td>\n",
       "      <td>PrivacySuppressed</td>\n",
       "      <td>PrivacySuppressed</td>\n",
       "    </tr>\n",
       "    <tr>\n",
       "      <th>3</th>\n",
       "      <td>100654.0</td>\n",
       "      <td>110</td>\n",
       "      <td>3</td>\n",
       "      <td>PrivacySuppressed</td>\n",
       "      <td>PrivacySuppressed</td>\n",
       "      <td>PrivacySuppressed</td>\n",
       "      <td>PrivacySuppressed</td>\n",
       "      <td>PrivacySuppressed</td>\n",
       "      <td>PrivacySuppressed</td>\n",
       "    </tr>\n",
       "    <tr>\n",
       "      <th>4</th>\n",
       "      <td>100654.0</td>\n",
       "      <td>110</td>\n",
       "      <td>5</td>\n",
       "      <td>PrivacySuppressed</td>\n",
       "      <td>PrivacySuppressed</td>\n",
       "      <td>PrivacySuppressed</td>\n",
       "      <td>PrivacySuppressed</td>\n",
       "      <td>PrivacySuppressed</td>\n",
       "      <td>PrivacySuppressed</td>\n",
       "    </tr>\n",
       "  </tbody>\n",
       "</table>\n",
       "</div>"
      ],
      "text/plain": [
       "     UNITID  CIPCODE  CREDLEV DEBT_ALL_STGP_ANY_MEAN    EARN_MDN_HI_1YR  \\\n",
       "0  100654.0      100        3      PrivacySuppressed  PrivacySuppressed   \n",
       "1  100654.0      101        3      PrivacySuppressed                NaN   \n",
       "2  100654.0      109        3      PrivacySuppressed  PrivacySuppressed   \n",
       "3  100654.0      110        3      PrivacySuppressed  PrivacySuppressed   \n",
       "4  100654.0      110        5      PrivacySuppressed  PrivacySuppressed   \n",
       "\n",
       "     EARN_MDN_HI_2YR    EARN_NE_MDN_3YR EARN_CNTOVER150_3YR  EARN_COUNT_NE_3YR  \n",
       "0  PrivacySuppressed  PrivacySuppressed   PrivacySuppressed  PrivacySuppressed  \n",
       "1                NaN                NaN                 NaN                NaN  \n",
       "2  PrivacySuppressed  PrivacySuppressed   PrivacySuppressed  PrivacySuppressed  \n",
       "3  PrivacySuppressed  PrivacySuppressed   PrivacySuppressed  PrivacySuppressed  \n",
       "4  PrivacySuppressed  PrivacySuppressed   PrivacySuppressed  PrivacySuppressed  "
      ]
     },
     "execution_count": 28,
     "metadata": {},
     "output_type": "execute_result"
    }
   ],
   "source": [
    "#select columns to keeps\n",
    "desired_columns = ['UNITID', 'CIPCODE', 'CREDLEV','DEBT_ALL_STGP_ANY_MEAN', 'EARN_MDN_HI_1YR', 'EARN_MDN_HI_2YR', 'EARN_NE_MDN_3YR','EARN_CNTOVER150_3YR','EARN_COUNT_NE_3YR']\n",
    "only_cols = data_df.loc[:, desired_columns]\n",
    "\n",
    "only_cols.head()"
   ]
  },
  {
   "cell_type": "code",
   "execution_count": 29,
   "id": "199acc3c",
   "metadata": {},
   "outputs": [
    {
     "name": "stdout",
     "output_type": "stream",
     "text": [
      "<class 'pandas.core.frame.DataFrame'>\n",
      "RangeIndex: 233979 entries, 0 to 233978\n",
      "Data columns (total 9 columns):\n",
      " #   Column                  Non-Null Count   Dtype  \n",
      "---  ------                  --------------   -----  \n",
      " 0   UNITID                  222299 non-null  float64\n",
      " 1   CIPCODE                 233979 non-null  int64  \n",
      " 2   CREDLEV                 233979 non-null  int64  \n",
      " 3   DEBT_ALL_STGP_ANY_MEAN  233979 non-null  object \n",
      " 4   EARN_MDN_HI_1YR         217880 non-null  object \n",
      " 5   EARN_MDN_HI_2YR         213154 non-null  object \n",
      " 6   EARN_NE_MDN_3YR         217880 non-null  object \n",
      " 7   EARN_CNTOVER150_3YR     217880 non-null  object \n",
      " 8   EARN_COUNT_NE_3YR       217880 non-null  object \n",
      "dtypes: float64(1), int64(2), object(6)\n",
      "memory usage: 16.1+ MB\n"
     ]
    }
   ],
   "source": [
    "only_cols.info()"
   ]
  },
  {
   "cell_type": "code",
   "execution_count": 30,
   "id": "e0adfed9",
   "metadata": {},
   "outputs": [],
   "source": [
    "#drop NA values\n",
    "column_names = ['UNITID', 'CIPCODE', 'CREDLEV','DEBT_ALL_STGP_ANY_MEAN', 'EARN_MDN_HI_1YR', 'EARN_MDN_HI_2YR', 'EARN_NE_MDN_3YR','EARN_CNTOVER150_3YR','EARN_COUNT_NE_3YR']\n",
    "\n",
    "# Initialize the DataFrame 'cleaned_df' as a copy of 'only_cols'\n",
    "cleaned_df = only_cols.copy()\n",
    "\n",
    "# Iterate through the specified columns and drop rows with NaN values in each column\n",
    "for col in column_names:\n",
    "    cleaned_df = cleaned_df[cleaned_df[col].notna()]\n"
   ]
  },
  {
   "cell_type": "code",
   "execution_count": 31,
   "id": "9c6f95ac",
   "metadata": {},
   "outputs": [
    {
     "data": {
      "text/html": [
       "<div>\n",
       "<style scoped>\n",
       "    .dataframe tbody tr th:only-of-type {\n",
       "        vertical-align: middle;\n",
       "    }\n",
       "\n",
       "    .dataframe tbody tr th {\n",
       "        vertical-align: top;\n",
       "    }\n",
       "\n",
       "    .dataframe thead th {\n",
       "        text-align: right;\n",
       "    }\n",
       "</style>\n",
       "<table border=\"1\" class=\"dataframe\">\n",
       "  <thead>\n",
       "    <tr style=\"text-align: right;\">\n",
       "      <th></th>\n",
       "      <th>UNITID</th>\n",
       "      <th>CIPCODE</th>\n",
       "      <th>CREDLEV</th>\n",
       "      <th>DEBT_ALL_STGP_ANY_MEAN</th>\n",
       "      <th>EARN_MDN_HI_1YR</th>\n",
       "      <th>EARN_MDN_HI_2YR</th>\n",
       "      <th>EARN_NE_MDN_3YR</th>\n",
       "      <th>EARN_CNTOVER150_3YR</th>\n",
       "      <th>EARN_COUNT_NE_3YR</th>\n",
       "    </tr>\n",
       "  </thead>\n",
       "  <tbody>\n",
       "    <tr>\n",
       "      <th>39</th>\n",
       "      <td>100654.0</td>\n",
       "      <td>2401</td>\n",
       "      <td>3</td>\n",
       "      <td>32054</td>\n",
       "      <td>23094</td>\n",
       "      <td>24615</td>\n",
       "      <td>30613</td>\n",
       "      <td>17</td>\n",
       "      <td>25</td>\n",
       "    </tr>\n",
       "    <tr>\n",
       "      <th>66</th>\n",
       "      <td>100663.0</td>\n",
       "      <td>901</td>\n",
       "      <td>3</td>\n",
       "      <td>26312</td>\n",
       "      <td>28940</td>\n",
       "      <td>29517</td>\n",
       "      <td>33859</td>\n",
       "      <td>71</td>\n",
       "      <td>92</td>\n",
       "    </tr>\n",
       "    <tr>\n",
       "      <th>89</th>\n",
       "      <td>100663.0</td>\n",
       "      <td>1313</td>\n",
       "      <td>3</td>\n",
       "      <td>24668</td>\n",
       "      <td>30620</td>\n",
       "      <td>29882</td>\n",
       "      <td>33214</td>\n",
       "      <td>46</td>\n",
       "      <td>55</td>\n",
       "    </tr>\n",
       "    <tr>\n",
       "      <th>108</th>\n",
       "      <td>100663.0</td>\n",
       "      <td>1419</td>\n",
       "      <td>3</td>\n",
       "      <td>24556</td>\n",
       "      <td>63241</td>\n",
       "      <td>59253</td>\n",
       "      <td>73433</td>\n",
       "      <td>33</td>\n",
       "      <td>34</td>\n",
       "    </tr>\n",
       "    <tr>\n",
       "      <th>117</th>\n",
       "      <td>100663.0</td>\n",
       "      <td>2301</td>\n",
       "      <td>3</td>\n",
       "      <td>25487</td>\n",
       "      <td>27282</td>\n",
       "      <td>27497</td>\n",
       "      <td>25437</td>\n",
       "      <td>24</td>\n",
       "      <td>37</td>\n",
       "    </tr>\n",
       "  </tbody>\n",
       "</table>\n",
       "</div>"
      ],
      "text/plain": [
       "       UNITID  CIPCODE  CREDLEV DEBT_ALL_STGP_ANY_MEAN EARN_MDN_HI_1YR  \\\n",
       "39   100654.0     2401        3                  32054           23094   \n",
       "66   100663.0      901        3                  26312           28940   \n",
       "89   100663.0     1313        3                  24668           30620   \n",
       "108  100663.0     1419        3                  24556           63241   \n",
       "117  100663.0     2301        3                  25487           27282   \n",
       "\n",
       "    EARN_MDN_HI_2YR EARN_NE_MDN_3YR EARN_CNTOVER150_3YR EARN_COUNT_NE_3YR  \n",
       "39            24615           30613                  17                25  \n",
       "66            29517           33859                  71                92  \n",
       "89            29882           33214                  46                55  \n",
       "108           59253           73433                  33                34  \n",
       "117           27497           25437                  24                37  "
      ]
     },
     "execution_count": 31,
     "metadata": {},
     "output_type": "execute_result"
    }
   ],
   "source": [
    "cleaned_df = cleaned_df [cleaned_df ['EARN_CNTOVER150_3YR'] != 'PrivacySuppressed']\n",
    "cleaned_df = cleaned_df [cleaned_df ['EARN_COUNT_NE_3YR'] != 'PrivacySuppressed']\n",
    "cleaned_df = cleaned_df [cleaned_df ['DEBT_ALL_STGP_ANY_MEAN'] != 'PrivacySuppressed']\n",
    "cleaned_df = cleaned_df [cleaned_df ['EARN_MDN_HI_1YR'] != 'PrivacySuppressed']\n",
    "cleaned_df = cleaned_df [cleaned_df ['EARN_MDN_HI_2YR'] != 'PrivacySuppressed']\n",
    "cleaned_df = cleaned_df [cleaned_df ['EARN_NE_MDN_3YR'] != 'PrivacySuppressed']\n",
    "\n",
    "cleaned_df.head()"
   ]
  },
  {
   "cell_type": "code",
   "execution_count": 32,
   "id": "247001dd",
   "metadata": {},
   "outputs": [
    {
     "data": {
      "text/plain": [
       "UNITID                     3893\n",
       "CIPCODE                     276\n",
       "CREDLEV                       4\n",
       "DEBT_ALL_STGP_ANY_MEAN    12019\n",
       "EARN_MDN_HI_1YR           13930\n",
       "EARN_MDN_HI_2YR            4663\n",
       "EARN_NE_MDN_3YR           14187\n",
       "EARN_CNTOVER150_3YR         584\n",
       "EARN_COUNT_NE_3YR           749\n",
       "dtype: int64"
      ]
     },
     "execution_count": 32,
     "metadata": {},
     "output_type": "execute_result"
    }
   ],
   "source": [
    "cleaned_df.nunique()"
   ]
  },
  {
   "cell_type": "code",
   "execution_count": 33,
   "id": "cac5dd6d",
   "metadata": {},
   "outputs": [
    {
     "name": "stdout",
     "output_type": "stream",
     "text": [
      "<class 'pandas.core.frame.DataFrame'>\n",
      "Int64Index: 20585 entries, 39 to 222298\n",
      "Data columns (total 9 columns):\n",
      " #   Column                  Non-Null Count  Dtype  \n",
      "---  ------                  --------------  -----  \n",
      " 0   UNITID                  20585 non-null  float64\n",
      " 1   CIPCODE                 20585 non-null  int64  \n",
      " 2   CREDLEV                 20585 non-null  int64  \n",
      " 3   DEBT_ALL_STGP_ANY_MEAN  20585 non-null  object \n",
      " 4   EARN_MDN_HI_1YR         20585 non-null  object \n",
      " 5   EARN_MDN_HI_2YR         20585 non-null  object \n",
      " 6   EARN_NE_MDN_3YR         20585 non-null  object \n",
      " 7   EARN_CNTOVER150_3YR     20585 non-null  object \n",
      " 8   EARN_COUNT_NE_3YR       20585 non-null  object \n",
      "dtypes: float64(1), int64(2), object(6)\n",
      "memory usage: 1.6+ MB\n"
     ]
    }
   ],
   "source": [
    "cleaned_df.info()"
   ]
  },
  {
   "cell_type": "code",
   "execution_count": 34,
   "id": "e7bec7f6",
   "metadata": {},
   "outputs": [
    {
     "data": {
      "text/html": [
       "<div>\n",
       "<style scoped>\n",
       "    .dataframe tbody tr th:only-of-type {\n",
       "        vertical-align: middle;\n",
       "    }\n",
       "\n",
       "    .dataframe tbody tr th {\n",
       "        vertical-align: top;\n",
       "    }\n",
       "\n",
       "    .dataframe thead th {\n",
       "        text-align: right;\n",
       "    }\n",
       "</style>\n",
       "<table border=\"1\" class=\"dataframe\">\n",
       "  <thead>\n",
       "    <tr style=\"text-align: right;\">\n",
       "      <th></th>\n",
       "      <th>UNITID</th>\n",
       "      <th>CIPCODE</th>\n",
       "      <th>CREDLEV</th>\n",
       "      <th>DEBT_ALL_STGP_ANY_MEAN</th>\n",
       "      <th>EARN_MDN_HI_1YR</th>\n",
       "      <th>EARN_MDN_HI_2YR</th>\n",
       "      <th>EARN_NE_MDN_3YR</th>\n",
       "      <th>EARN_CNTOVER150_3YR</th>\n",
       "      <th>EARN_COUNT_NE_3YR</th>\n",
       "    </tr>\n",
       "  </thead>\n",
       "  <tbody>\n",
       "    <tr>\n",
       "      <th>39</th>\n",
       "      <td>100654.0</td>\n",
       "      <td>2401</td>\n",
       "      <td>3</td>\n",
       "      <td>32054.0</td>\n",
       "      <td>23094.0</td>\n",
       "      <td>24615.0</td>\n",
       "      <td>30613.0</td>\n",
       "      <td>17.0</td>\n",
       "      <td>25.0</td>\n",
       "    </tr>\n",
       "    <tr>\n",
       "      <th>66</th>\n",
       "      <td>100663.0</td>\n",
       "      <td>901</td>\n",
       "      <td>3</td>\n",
       "      <td>26312.0</td>\n",
       "      <td>28940.0</td>\n",
       "      <td>29517.0</td>\n",
       "      <td>33859.0</td>\n",
       "      <td>71.0</td>\n",
       "      <td>92.0</td>\n",
       "    </tr>\n",
       "    <tr>\n",
       "      <th>89</th>\n",
       "      <td>100663.0</td>\n",
       "      <td>1313</td>\n",
       "      <td>3</td>\n",
       "      <td>24668.0</td>\n",
       "      <td>30620.0</td>\n",
       "      <td>29882.0</td>\n",
       "      <td>33214.0</td>\n",
       "      <td>46.0</td>\n",
       "      <td>55.0</td>\n",
       "    </tr>\n",
       "    <tr>\n",
       "      <th>108</th>\n",
       "      <td>100663.0</td>\n",
       "      <td>1419</td>\n",
       "      <td>3</td>\n",
       "      <td>24556.0</td>\n",
       "      <td>63241.0</td>\n",
       "      <td>59253.0</td>\n",
       "      <td>73433.0</td>\n",
       "      <td>33.0</td>\n",
       "      <td>34.0</td>\n",
       "    </tr>\n",
       "    <tr>\n",
       "      <th>117</th>\n",
       "      <td>100663.0</td>\n",
       "      <td>2301</td>\n",
       "      <td>3</td>\n",
       "      <td>25487.0</td>\n",
       "      <td>27282.0</td>\n",
       "      <td>27497.0</td>\n",
       "      <td>25437.0</td>\n",
       "      <td>24.0</td>\n",
       "      <td>37.0</td>\n",
       "    </tr>\n",
       "  </tbody>\n",
       "</table>\n",
       "</div>"
      ],
      "text/plain": [
       "       UNITID  CIPCODE  CREDLEV  DEBT_ALL_STGP_ANY_MEAN  EARN_MDN_HI_1YR  \\\n",
       "39   100654.0     2401        3                 32054.0          23094.0   \n",
       "66   100663.0      901        3                 26312.0          28940.0   \n",
       "89   100663.0     1313        3                 24668.0          30620.0   \n",
       "108  100663.0     1419        3                 24556.0          63241.0   \n",
       "117  100663.0     2301        3                 25487.0          27282.0   \n",
       "\n",
       "     EARN_MDN_HI_2YR  EARN_NE_MDN_3YR  EARN_CNTOVER150_3YR  EARN_COUNT_NE_3YR  \n",
       "39           24615.0          30613.0                 17.0               25.0  \n",
       "66           29517.0          33859.0                 71.0               92.0  \n",
       "89           29882.0          33214.0                 46.0               55.0  \n",
       "108          59253.0          73433.0                 33.0               34.0  \n",
       "117          27497.0          25437.0                 24.0               37.0  "
      ]
     },
     "execution_count": 34,
     "metadata": {},
     "output_type": "execute_result"
    }
   ],
   "source": [
    "#change COMPL data type from object to float\n",
    "columns_to_convert = ['DEBT_ALL_STGP_ANY_MEAN', 'EARN_MDN_HI_1YR', 'EARN_MDN_HI_2YR', 'EARN_NE_MDN_3YR', 'EARN_CNTOVER150_3YR', 'EARN_COUNT_NE_3YR']\n",
    "cleaned_df[columns_to_convert] = cleaned_df[columns_to_convert].astype(float)\n",
    "cleaned_df.head()"
   ]
  },
  {
   "cell_type": "code",
   "execution_count": 35,
   "id": "0059cfea",
   "metadata": {},
   "outputs": [
    {
     "name": "stdout",
     "output_type": "stream",
     "text": [
      "<class 'pandas.core.frame.DataFrame'>\n",
      "Int64Index: 20585 entries, 39 to 222298\n",
      "Data columns (total 9 columns):\n",
      " #   Column                  Non-Null Count  Dtype  \n",
      "---  ------                  --------------  -----  \n",
      " 0   UNITID                  20585 non-null  float64\n",
      " 1   CIPCODE                 20585 non-null  int64  \n",
      " 2   CREDLEV                 20585 non-null  int64  \n",
      " 3   DEBT_ALL_STGP_ANY_MEAN  20585 non-null  float64\n",
      " 4   EARN_MDN_HI_1YR         20585 non-null  float64\n",
      " 5   EARN_MDN_HI_2YR         20585 non-null  float64\n",
      " 6   EARN_NE_MDN_3YR         20585 non-null  float64\n",
      " 7   EARN_CNTOVER150_3YR     20585 non-null  float64\n",
      " 8   EARN_COUNT_NE_3YR       20585 non-null  float64\n",
      "dtypes: float64(7), int64(2)\n",
      "memory usage: 1.6 MB\n"
     ]
    }
   ],
   "source": [
    "cleaned_df.info()"
   ]
  },
  {
   "cell_type": "code",
   "execution_count": 36,
   "id": "87b87011",
   "metadata": {},
   "outputs": [
    {
     "data": {
      "text/plain": [
       "UNITID                    0\n",
       "CIPCODE                   0\n",
       "CREDLEV                   0\n",
       "DEBT_ALL_STGP_ANY_MEAN    0\n",
       "EARN_MDN_HI_1YR           0\n",
       "EARN_MDN_HI_2YR           0\n",
       "EARN_NE_MDN_3YR           0\n",
       "EARN_CNTOVER150_3YR       0\n",
       "EARN_COUNT_NE_3YR         0\n",
       "dtype: int64"
      ]
     },
     "execution_count": 36,
     "metadata": {},
     "output_type": "execute_result"
    }
   ],
   "source": [
    "Nan_values = cleaned_df.isna().sum()\n",
    "Nan_values"
   ]
  },
  {
   "cell_type": "code",
   "execution_count": 37,
   "id": "6de071d5",
   "metadata": {},
   "outputs": [
    {
     "data": {
      "text/plain": [
       "20585"
      ]
     },
     "execution_count": 37,
     "metadata": {},
     "output_type": "execute_result"
    }
   ],
   "source": [
    "len(cleaned_df)"
   ]
  },
  {
   "cell_type": "code",
   "execution_count": 38,
   "id": "fc8ee08a",
   "metadata": {},
   "outputs": [
    {
     "data": {
      "text/html": [
       "<div>\n",
       "<style scoped>\n",
       "    .dataframe tbody tr th:only-of-type {\n",
       "        vertical-align: middle;\n",
       "    }\n",
       "\n",
       "    .dataframe tbody tr th {\n",
       "        vertical-align: top;\n",
       "    }\n",
       "\n",
       "    .dataframe thead th {\n",
       "        text-align: right;\n",
       "    }\n",
       "</style>\n",
       "<table border=\"1\" class=\"dataframe\">\n",
       "  <thead>\n",
       "    <tr style=\"text-align: right;\">\n",
       "      <th></th>\n",
       "      <th>UNITID</th>\n",
       "      <th>CIPCODE</th>\n",
       "      <th>CREDLEV</th>\n",
       "      <th>DEBT_ALL_STGP_ANY_MEAN</th>\n",
       "      <th>EARN_MDN_HI_1YR</th>\n",
       "      <th>EARN_MDN_HI_2YR</th>\n",
       "      <th>EARN_NE_MDN_3YR</th>\n",
       "      <th>EARN_CNTOVER150_3YR</th>\n",
       "      <th>EARN_COUNT_NE_3YR</th>\n",
       "      <th>employment_rate</th>\n",
       "    </tr>\n",
       "  </thead>\n",
       "  <tbody>\n",
       "    <tr>\n",
       "      <th>39</th>\n",
       "      <td>100654.0</td>\n",
       "      <td>2401</td>\n",
       "      <td>3</td>\n",
       "      <td>32054.0</td>\n",
       "      <td>23094.0</td>\n",
       "      <td>24615.0</td>\n",
       "      <td>30613.0</td>\n",
       "      <td>17.0</td>\n",
       "      <td>25.0</td>\n",
       "      <td>0.680000</td>\n",
       "    </tr>\n",
       "    <tr>\n",
       "      <th>66</th>\n",
       "      <td>100663.0</td>\n",
       "      <td>901</td>\n",
       "      <td>3</td>\n",
       "      <td>26312.0</td>\n",
       "      <td>28940.0</td>\n",
       "      <td>29517.0</td>\n",
       "      <td>33859.0</td>\n",
       "      <td>71.0</td>\n",
       "      <td>92.0</td>\n",
       "      <td>0.771739</td>\n",
       "    </tr>\n",
       "    <tr>\n",
       "      <th>89</th>\n",
       "      <td>100663.0</td>\n",
       "      <td>1313</td>\n",
       "      <td>3</td>\n",
       "      <td>24668.0</td>\n",
       "      <td>30620.0</td>\n",
       "      <td>29882.0</td>\n",
       "      <td>33214.0</td>\n",
       "      <td>46.0</td>\n",
       "      <td>55.0</td>\n",
       "      <td>0.836364</td>\n",
       "    </tr>\n",
       "    <tr>\n",
       "      <th>108</th>\n",
       "      <td>100663.0</td>\n",
       "      <td>1419</td>\n",
       "      <td>3</td>\n",
       "      <td>24556.0</td>\n",
       "      <td>63241.0</td>\n",
       "      <td>59253.0</td>\n",
       "      <td>73433.0</td>\n",
       "      <td>33.0</td>\n",
       "      <td>34.0</td>\n",
       "      <td>0.970588</td>\n",
       "    </tr>\n",
       "    <tr>\n",
       "      <th>117</th>\n",
       "      <td>100663.0</td>\n",
       "      <td>2301</td>\n",
       "      <td>3</td>\n",
       "      <td>25487.0</td>\n",
       "      <td>27282.0</td>\n",
       "      <td>27497.0</td>\n",
       "      <td>25437.0</td>\n",
       "      <td>24.0</td>\n",
       "      <td>37.0</td>\n",
       "      <td>0.648649</td>\n",
       "    </tr>\n",
       "  </tbody>\n",
       "</table>\n",
       "</div>"
      ],
      "text/plain": [
       "       UNITID  CIPCODE  CREDLEV  DEBT_ALL_STGP_ANY_MEAN  EARN_MDN_HI_1YR  \\\n",
       "39   100654.0     2401        3                 32054.0          23094.0   \n",
       "66   100663.0      901        3                 26312.0          28940.0   \n",
       "89   100663.0     1313        3                 24668.0          30620.0   \n",
       "108  100663.0     1419        3                 24556.0          63241.0   \n",
       "117  100663.0     2301        3                 25487.0          27282.0   \n",
       "\n",
       "     EARN_MDN_HI_2YR  EARN_NE_MDN_3YR  EARN_CNTOVER150_3YR  EARN_COUNT_NE_3YR  \\\n",
       "39           24615.0          30613.0                 17.0               25.0   \n",
       "66           29517.0          33859.0                 71.0               92.0   \n",
       "89           29882.0          33214.0                 46.0               55.0   \n",
       "108          59253.0          73433.0                 33.0               34.0   \n",
       "117          27497.0          25437.0                 24.0               37.0   \n",
       "\n",
       "     employment_rate  \n",
       "39          0.680000  \n",
       "66          0.771739  \n",
       "89          0.836364  \n",
       "108         0.970588  \n",
       "117         0.648649  "
      ]
     },
     "execution_count": 38,
     "metadata": {},
     "output_type": "execute_result"
    }
   ],
   "source": [
    "cleaned_df['employment_rate'] = cleaned_df['EARN_CNTOVER150_3YR'] / cleaned_df['EARN_COUNT_NE_3YR']\n",
    "cleaned_df.head()"
   ]
  },
  {
   "cell_type": "code",
   "execution_count": 39,
   "id": "56b0831e",
   "metadata": {},
   "outputs": [
    {
     "data": {
      "text/html": [
       "<div>\n",
       "<style scoped>\n",
       "    .dataframe tbody tr th:only-of-type {\n",
       "        vertical-align: middle;\n",
       "    }\n",
       "\n",
       "    .dataframe tbody tr th {\n",
       "        vertical-align: top;\n",
       "    }\n",
       "\n",
       "    .dataframe thead th {\n",
       "        text-align: right;\n",
       "    }\n",
       "</style>\n",
       "<table border=\"1\" class=\"dataframe\">\n",
       "  <thead>\n",
       "    <tr style=\"text-align: right;\">\n",
       "      <th></th>\n",
       "      <th>UNITID</th>\n",
       "      <th>CIPCODE</th>\n",
       "      <th>CREDLEV</th>\n",
       "      <th>DEBT_ALL_STGP_ANY_MEAN</th>\n",
       "      <th>EARN_MDN_HI_1YR</th>\n",
       "      <th>EARN_MDN_HI_2YR</th>\n",
       "      <th>EARN_NE_MDN_3YR</th>\n",
       "      <th>EARN_CNTOVER150_3YR</th>\n",
       "      <th>EARN_COUNT_NE_3YR</th>\n",
       "      <th>employment_rate</th>\n",
       "      <th>rate_over85</th>\n",
       "    </tr>\n",
       "  </thead>\n",
       "  <tbody>\n",
       "    <tr>\n",
       "      <th>39</th>\n",
       "      <td>100654.0</td>\n",
       "      <td>2401</td>\n",
       "      <td>3</td>\n",
       "      <td>32054.0</td>\n",
       "      <td>23094.0</td>\n",
       "      <td>24615.0</td>\n",
       "      <td>30613.0</td>\n",
       "      <td>17.0</td>\n",
       "      <td>25.0</td>\n",
       "      <td>0.680000</td>\n",
       "      <td>0</td>\n",
       "    </tr>\n",
       "    <tr>\n",
       "      <th>66</th>\n",
       "      <td>100663.0</td>\n",
       "      <td>901</td>\n",
       "      <td>3</td>\n",
       "      <td>26312.0</td>\n",
       "      <td>28940.0</td>\n",
       "      <td>29517.0</td>\n",
       "      <td>33859.0</td>\n",
       "      <td>71.0</td>\n",
       "      <td>92.0</td>\n",
       "      <td>0.771739</td>\n",
       "      <td>0</td>\n",
       "    </tr>\n",
       "    <tr>\n",
       "      <th>89</th>\n",
       "      <td>100663.0</td>\n",
       "      <td>1313</td>\n",
       "      <td>3</td>\n",
       "      <td>24668.0</td>\n",
       "      <td>30620.0</td>\n",
       "      <td>29882.0</td>\n",
       "      <td>33214.0</td>\n",
       "      <td>46.0</td>\n",
       "      <td>55.0</td>\n",
       "      <td>0.836364</td>\n",
       "      <td>0</td>\n",
       "    </tr>\n",
       "    <tr>\n",
       "      <th>108</th>\n",
       "      <td>100663.0</td>\n",
       "      <td>1419</td>\n",
       "      <td>3</td>\n",
       "      <td>24556.0</td>\n",
       "      <td>63241.0</td>\n",
       "      <td>59253.0</td>\n",
       "      <td>73433.0</td>\n",
       "      <td>33.0</td>\n",
       "      <td>34.0</td>\n",
       "      <td>0.970588</td>\n",
       "      <td>1</td>\n",
       "    </tr>\n",
       "    <tr>\n",
       "      <th>117</th>\n",
       "      <td>100663.0</td>\n",
       "      <td>2301</td>\n",
       "      <td>3</td>\n",
       "      <td>25487.0</td>\n",
       "      <td>27282.0</td>\n",
       "      <td>27497.0</td>\n",
       "      <td>25437.0</td>\n",
       "      <td>24.0</td>\n",
       "      <td>37.0</td>\n",
       "      <td>0.648649</td>\n",
       "      <td>0</td>\n",
       "    </tr>\n",
       "  </tbody>\n",
       "</table>\n",
       "</div>"
      ],
      "text/plain": [
       "       UNITID  CIPCODE  CREDLEV  DEBT_ALL_STGP_ANY_MEAN  EARN_MDN_HI_1YR  \\\n",
       "39   100654.0     2401        3                 32054.0          23094.0   \n",
       "66   100663.0      901        3                 26312.0          28940.0   \n",
       "89   100663.0     1313        3                 24668.0          30620.0   \n",
       "108  100663.0     1419        3                 24556.0          63241.0   \n",
       "117  100663.0     2301        3                 25487.0          27282.0   \n",
       "\n",
       "     EARN_MDN_HI_2YR  EARN_NE_MDN_3YR  EARN_CNTOVER150_3YR  EARN_COUNT_NE_3YR  \\\n",
       "39           24615.0          30613.0                 17.0               25.0   \n",
       "66           29517.0          33859.0                 71.0               92.0   \n",
       "89           29882.0          33214.0                 46.0               55.0   \n",
       "108          59253.0          73433.0                 33.0               34.0   \n",
       "117          27497.0          25437.0                 24.0               37.0   \n",
       "\n",
       "     employment_rate  rate_over85  \n",
       "39          0.680000            0  \n",
       "66          0.771739            0  \n",
       "89          0.836364            0  \n",
       "108         0.970588            1  \n",
       "117         0.648649            0  "
      ]
     },
     "execution_count": 39,
     "metadata": {},
     "output_type": "execute_result"
    }
   ],
   "source": [
    "cleaned_df['rate_over85'] = cleaned_df['employment_rate'].apply(lambda x: 1 if x > 0.85 else 0)\n",
    "\n",
    "cleaned_df.head()"
   ]
  },
  {
   "cell_type": "code",
   "execution_count": 40,
   "id": "0d84f2ba",
   "metadata": {},
   "outputs": [],
   "source": [
    "#cleaned_df.to_csv('cleaned_data-3.csv')"
   ]
  },
  {
   "cell_type": "code",
   "execution_count": 41,
   "id": "eb8c7640",
   "metadata": {},
   "outputs": [],
   "source": [
    "y = cleaned_df[\"rate_over85\"]\n",
    "X = cleaned_df.drop(columns=[\"rate_over85\"])"
   ]
  },
  {
   "cell_type": "code",
   "execution_count": 42,
   "id": "59a3db67",
   "metadata": {},
   "outputs": [
    {
     "data": {
      "text/plain": [
       "(15438, 10)"
      ]
     },
     "execution_count": 42,
     "metadata": {},
     "output_type": "execute_result"
    }
   ],
   "source": [
    "from sklearn.model_selection import train_test_split\n",
    "\n",
    "X_train, X_test, y_train, y_test = train_test_split(X, \n",
    "                                                    y, \n",
    "                                                    random_state=1, \n",
    "                                                    stratify=y)\n",
    "X_train.shape"
   ]
  },
  {
   "cell_type": "code",
   "execution_count": 43,
   "id": "bc5c1941",
   "metadata": {},
   "outputs": [
    {
     "data": {
      "text/html": [
       "<style>#sk-container-id-3 {color: black;}#sk-container-id-3 pre{padding: 0;}#sk-container-id-3 div.sk-toggleable {background-color: white;}#sk-container-id-3 label.sk-toggleable__label {cursor: pointer;display: block;width: 100%;margin-bottom: 0;padding: 0.3em;box-sizing: border-box;text-align: center;}#sk-container-id-3 label.sk-toggleable__label-arrow:before {content: \"▸\";float: left;margin-right: 0.25em;color: #696969;}#sk-container-id-3 label.sk-toggleable__label-arrow:hover:before {color: black;}#sk-container-id-3 div.sk-estimator:hover label.sk-toggleable__label-arrow:before {color: black;}#sk-container-id-3 div.sk-toggleable__content {max-height: 0;max-width: 0;overflow: hidden;text-align: left;background-color: #f0f8ff;}#sk-container-id-3 div.sk-toggleable__content pre {margin: 0.2em;color: black;border-radius: 0.25em;background-color: #f0f8ff;}#sk-container-id-3 input.sk-toggleable__control:checked~div.sk-toggleable__content {max-height: 200px;max-width: 100%;overflow: auto;}#sk-container-id-3 input.sk-toggleable__control:checked~label.sk-toggleable__label-arrow:before {content: \"▾\";}#sk-container-id-3 div.sk-estimator input.sk-toggleable__control:checked~label.sk-toggleable__label {background-color: #d4ebff;}#sk-container-id-3 div.sk-label input.sk-toggleable__control:checked~label.sk-toggleable__label {background-color: #d4ebff;}#sk-container-id-3 input.sk-hidden--visually {border: 0;clip: rect(1px 1px 1px 1px);clip: rect(1px, 1px, 1px, 1px);height: 1px;margin: -1px;overflow: hidden;padding: 0;position: absolute;width: 1px;}#sk-container-id-3 div.sk-estimator {font-family: monospace;background-color: #f0f8ff;border: 1px dotted black;border-radius: 0.25em;box-sizing: border-box;margin-bottom: 0.5em;}#sk-container-id-3 div.sk-estimator:hover {background-color: #d4ebff;}#sk-container-id-3 div.sk-parallel-item::after {content: \"\";width: 100%;border-bottom: 1px solid gray;flex-grow: 1;}#sk-container-id-3 div.sk-label:hover label.sk-toggleable__label {background-color: #d4ebff;}#sk-container-id-3 div.sk-serial::before {content: \"\";position: absolute;border-left: 1px solid gray;box-sizing: border-box;top: 0;bottom: 0;left: 50%;z-index: 0;}#sk-container-id-3 div.sk-serial {display: flex;flex-direction: column;align-items: center;background-color: white;padding-right: 0.2em;padding-left: 0.2em;position: relative;}#sk-container-id-3 div.sk-item {position: relative;z-index: 1;}#sk-container-id-3 div.sk-parallel {display: flex;align-items: stretch;justify-content: center;background-color: white;position: relative;}#sk-container-id-3 div.sk-item::before, #sk-container-id-3 div.sk-parallel-item::before {content: \"\";position: absolute;border-left: 1px solid gray;box-sizing: border-box;top: 0;bottom: 0;left: 50%;z-index: -1;}#sk-container-id-3 div.sk-parallel-item {display: flex;flex-direction: column;z-index: 1;position: relative;background-color: white;}#sk-container-id-3 div.sk-parallel-item:first-child::after {align-self: flex-end;width: 50%;}#sk-container-id-3 div.sk-parallel-item:last-child::after {align-self: flex-start;width: 50%;}#sk-container-id-3 div.sk-parallel-item:only-child::after {width: 0;}#sk-container-id-3 div.sk-dashed-wrapped {border: 1px dashed gray;margin: 0 0.4em 0.5em 0.4em;box-sizing: border-box;padding-bottom: 0.4em;background-color: white;}#sk-container-id-3 div.sk-label label {font-family: monospace;font-weight: bold;display: inline-block;line-height: 1.2em;}#sk-container-id-3 div.sk-label-container {text-align: center;}#sk-container-id-3 div.sk-container {/* jupyter's `normalize.less` sets `[hidden] { display: none; }` but bootstrap.min.css set `[hidden] { display: none !important; }` so we also need the `!important` here to be able to override the default hidden behavior on the sphinx rendered scikit-learn.org. See: https://github.com/scikit-learn/scikit-learn/issues/21755 */display: inline-block !important;position: relative;}#sk-container-id-3 div.sk-text-repr-fallback {display: none;}</style><div id=\"sk-container-id-3\" class=\"sk-top-container\"><div class=\"sk-text-repr-fallback\"><pre>LogisticRegression(max_iter=200, random_state=1)</pre><b>In a Jupyter environment, please rerun this cell to show the HTML representation or trust the notebook. <br />On GitHub, the HTML representation is unable to render, please try loading this page with nbviewer.org.</b></div><div class=\"sk-container\" hidden><div class=\"sk-item\"><div class=\"sk-estimator sk-toggleable\"><input class=\"sk-toggleable__control sk-hidden--visually\" id=\"sk-estimator-id-3\" type=\"checkbox\" checked><label for=\"sk-estimator-id-3\" class=\"sk-toggleable__label sk-toggleable__label-arrow\">LogisticRegression</label><div class=\"sk-toggleable__content\"><pre>LogisticRegression(max_iter=200, random_state=1)</pre></div></div></div></div></div>"
      ],
      "text/plain": [
       "LogisticRegression(max_iter=200, random_state=1)"
      ]
     },
     "execution_count": 43,
     "metadata": {},
     "output_type": "execute_result"
    }
   ],
   "source": [
    "from sklearn.linear_model import LogisticRegression\n",
    "classifier = LogisticRegression(solver='lbfgs',\n",
    "                                max_iter=200,\n",
    "                                random_state=1)\n",
    "classifier"
   ]
  },
  {
   "cell_type": "code",
   "execution_count": 44,
   "id": "33b96050",
   "metadata": {},
   "outputs": [
    {
     "name": "stderr",
     "output_type": "stream",
     "text": [
      "C:\\Users\\atoth\\.conda\\envs\\dev\\lib\\site-packages\\sklearn\\linear_model\\_logistic.py:460: ConvergenceWarning: lbfgs failed to converge (status=1):\n",
      "STOP: TOTAL NO. of ITERATIONS REACHED LIMIT.\n",
      "\n",
      "Increase the number of iterations (max_iter) or scale the data as shown in:\n",
      "    https://scikit-learn.org/stable/modules/preprocessing.html\n",
      "Please also refer to the documentation for alternative solver options:\n",
      "    https://scikit-learn.org/stable/modules/linear_model.html#logistic-regression\n",
      "  n_iter_i = _check_optimize_result(\n"
     ]
    },
    {
     "data": {
      "text/html": [
       "<style>#sk-container-id-4 {color: black;}#sk-container-id-4 pre{padding: 0;}#sk-container-id-4 div.sk-toggleable {background-color: white;}#sk-container-id-4 label.sk-toggleable__label {cursor: pointer;display: block;width: 100%;margin-bottom: 0;padding: 0.3em;box-sizing: border-box;text-align: center;}#sk-container-id-4 label.sk-toggleable__label-arrow:before {content: \"▸\";float: left;margin-right: 0.25em;color: #696969;}#sk-container-id-4 label.sk-toggleable__label-arrow:hover:before {color: black;}#sk-container-id-4 div.sk-estimator:hover label.sk-toggleable__label-arrow:before {color: black;}#sk-container-id-4 div.sk-toggleable__content {max-height: 0;max-width: 0;overflow: hidden;text-align: left;background-color: #f0f8ff;}#sk-container-id-4 div.sk-toggleable__content pre {margin: 0.2em;color: black;border-radius: 0.25em;background-color: #f0f8ff;}#sk-container-id-4 input.sk-toggleable__control:checked~div.sk-toggleable__content {max-height: 200px;max-width: 100%;overflow: auto;}#sk-container-id-4 input.sk-toggleable__control:checked~label.sk-toggleable__label-arrow:before {content: \"▾\";}#sk-container-id-4 div.sk-estimator input.sk-toggleable__control:checked~label.sk-toggleable__label {background-color: #d4ebff;}#sk-container-id-4 div.sk-label input.sk-toggleable__control:checked~label.sk-toggleable__label {background-color: #d4ebff;}#sk-container-id-4 input.sk-hidden--visually {border: 0;clip: rect(1px 1px 1px 1px);clip: rect(1px, 1px, 1px, 1px);height: 1px;margin: -1px;overflow: hidden;padding: 0;position: absolute;width: 1px;}#sk-container-id-4 div.sk-estimator {font-family: monospace;background-color: #f0f8ff;border: 1px dotted black;border-radius: 0.25em;box-sizing: border-box;margin-bottom: 0.5em;}#sk-container-id-4 div.sk-estimator:hover {background-color: #d4ebff;}#sk-container-id-4 div.sk-parallel-item::after {content: \"\";width: 100%;border-bottom: 1px solid gray;flex-grow: 1;}#sk-container-id-4 div.sk-label:hover label.sk-toggleable__label {background-color: #d4ebff;}#sk-container-id-4 div.sk-serial::before {content: \"\";position: absolute;border-left: 1px solid gray;box-sizing: border-box;top: 0;bottom: 0;left: 50%;z-index: 0;}#sk-container-id-4 div.sk-serial {display: flex;flex-direction: column;align-items: center;background-color: white;padding-right: 0.2em;padding-left: 0.2em;position: relative;}#sk-container-id-4 div.sk-item {position: relative;z-index: 1;}#sk-container-id-4 div.sk-parallel {display: flex;align-items: stretch;justify-content: center;background-color: white;position: relative;}#sk-container-id-4 div.sk-item::before, #sk-container-id-4 div.sk-parallel-item::before {content: \"\";position: absolute;border-left: 1px solid gray;box-sizing: border-box;top: 0;bottom: 0;left: 50%;z-index: -1;}#sk-container-id-4 div.sk-parallel-item {display: flex;flex-direction: column;z-index: 1;position: relative;background-color: white;}#sk-container-id-4 div.sk-parallel-item:first-child::after {align-self: flex-end;width: 50%;}#sk-container-id-4 div.sk-parallel-item:last-child::after {align-self: flex-start;width: 50%;}#sk-container-id-4 div.sk-parallel-item:only-child::after {width: 0;}#sk-container-id-4 div.sk-dashed-wrapped {border: 1px dashed gray;margin: 0 0.4em 0.5em 0.4em;box-sizing: border-box;padding-bottom: 0.4em;background-color: white;}#sk-container-id-4 div.sk-label label {font-family: monospace;font-weight: bold;display: inline-block;line-height: 1.2em;}#sk-container-id-4 div.sk-label-container {text-align: center;}#sk-container-id-4 div.sk-container {/* jupyter's `normalize.less` sets `[hidden] { display: none; }` but bootstrap.min.css set `[hidden] { display: none !important; }` so we also need the `!important` here to be able to override the default hidden behavior on the sphinx rendered scikit-learn.org. See: https://github.com/scikit-learn/scikit-learn/issues/21755 */display: inline-block !important;position: relative;}#sk-container-id-4 div.sk-text-repr-fallback {display: none;}</style><div id=\"sk-container-id-4\" class=\"sk-top-container\"><div class=\"sk-text-repr-fallback\"><pre>LogisticRegression(max_iter=200, random_state=1)</pre><b>In a Jupyter environment, please rerun this cell to show the HTML representation or trust the notebook. <br />On GitHub, the HTML representation is unable to render, please try loading this page with nbviewer.org.</b></div><div class=\"sk-container\" hidden><div class=\"sk-item\"><div class=\"sk-estimator sk-toggleable\"><input class=\"sk-toggleable__control sk-hidden--visually\" id=\"sk-estimator-id-4\" type=\"checkbox\" checked><label for=\"sk-estimator-id-4\" class=\"sk-toggleable__label sk-toggleable__label-arrow\">LogisticRegression</label><div class=\"sk-toggleable__content\"><pre>LogisticRegression(max_iter=200, random_state=1)</pre></div></div></div></div></div>"
      ],
      "text/plain": [
       "LogisticRegression(max_iter=200, random_state=1)"
      ]
     },
     "execution_count": 44,
     "metadata": {},
     "output_type": "execute_result"
    }
   ],
   "source": [
    "classifier.fit(X_train, y_train)"
   ]
  },
  {
   "cell_type": "code",
   "execution_count": 45,
   "id": "8707b54e",
   "metadata": {},
   "outputs": [
    {
     "name": "stdout",
     "output_type": "stream",
     "text": [
      "Training Data Score: 0.9884052338385801\n",
      "Testing Data Score: 0.9852341169613367\n"
     ]
    }
   ],
   "source": [
    "print(f\"Training Data Score: {classifier.score(X_train, y_train)}\")\n",
    "print(f\"Testing Data Score: {classifier.score(X_test, y_test)}\")"
   ]
  },
  {
   "cell_type": "code",
   "execution_count": 46,
   "id": "4bb96224",
   "metadata": {},
   "outputs": [
    {
     "data": {
      "text/html": [
       "<div>\n",
       "<style scoped>\n",
       "    .dataframe tbody tr th:only-of-type {\n",
       "        vertical-align: middle;\n",
       "    }\n",
       "\n",
       "    .dataframe tbody tr th {\n",
       "        vertical-align: top;\n",
       "    }\n",
       "\n",
       "    .dataframe thead th {\n",
       "        text-align: right;\n",
       "    }\n",
       "</style>\n",
       "<table border=\"1\" class=\"dataframe\">\n",
       "  <thead>\n",
       "    <tr style=\"text-align: right;\">\n",
       "      <th></th>\n",
       "      <th>Prediction</th>\n",
       "      <th>Actual</th>\n",
       "    </tr>\n",
       "  </thead>\n",
       "  <tbody>\n",
       "    <tr>\n",
       "      <th>0</th>\n",
       "      <td>0</td>\n",
       "      <td>0</td>\n",
       "    </tr>\n",
       "    <tr>\n",
       "      <th>1</th>\n",
       "      <td>0</td>\n",
       "      <td>0</td>\n",
       "    </tr>\n",
       "    <tr>\n",
       "      <th>2</th>\n",
       "      <td>0</td>\n",
       "      <td>0</td>\n",
       "    </tr>\n",
       "    <tr>\n",
       "      <th>3</th>\n",
       "      <td>1</td>\n",
       "      <td>0</td>\n",
       "    </tr>\n",
       "    <tr>\n",
       "      <th>4</th>\n",
       "      <td>0</td>\n",
       "      <td>0</td>\n",
       "    </tr>\n",
       "    <tr>\n",
       "      <th>5</th>\n",
       "      <td>1</td>\n",
       "      <td>1</td>\n",
       "    </tr>\n",
       "    <tr>\n",
       "      <th>6</th>\n",
       "      <td>0</td>\n",
       "      <td>0</td>\n",
       "    </tr>\n",
       "    <tr>\n",
       "      <th>7</th>\n",
       "      <td>1</td>\n",
       "      <td>1</td>\n",
       "    </tr>\n",
       "    <tr>\n",
       "      <th>8</th>\n",
       "      <td>0</td>\n",
       "      <td>0</td>\n",
       "    </tr>\n",
       "    <tr>\n",
       "      <th>9</th>\n",
       "      <td>1</td>\n",
       "      <td>1</td>\n",
       "    </tr>\n",
       "  </tbody>\n",
       "</table>\n",
       "</div>"
      ],
      "text/plain": [
       "   Prediction  Actual\n",
       "0           0       0\n",
       "1           0       0\n",
       "2           0       0\n",
       "3           1       0\n",
       "4           0       0\n",
       "5           1       1\n",
       "6           0       0\n",
       "7           1       1\n",
       "8           0       0\n",
       "9           1       1"
      ]
     },
     "execution_count": 46,
     "metadata": {},
     "output_type": "execute_result"
    }
   ],
   "source": [
    "predictions = classifier.predict(X_test)\n",
    "results = pd.DataFrame({\"Prediction\": predictions, \"Actual\": y_test}).reset_index(drop=True)\n",
    "results.head(10)"
   ]
  },
  {
   "cell_type": "code",
   "execution_count": 47,
   "id": "17cae031",
   "metadata": {},
   "outputs": [
    {
     "data": {
      "text/plain": [
       "0.9852341169613367"
      ]
     },
     "execution_count": 47,
     "metadata": {},
     "output_type": "execute_result"
    }
   ],
   "source": [
    "from sklearn.metrics import accuracy_score\n",
    "# Display the accuracy score for the test dataset.\n",
    "accuracy_score(y_test, predictions)"
   ]
  },
  {
   "cell_type": "code",
   "execution_count": 48,
   "id": "e82514f3",
   "metadata": {},
   "outputs": [
    {
     "data": {
      "text/plain": [
       "array([[3765,   42],\n",
       "       [  34, 1306]], dtype=int64)"
      ]
     },
     "execution_count": 48,
     "metadata": {},
     "output_type": "execute_result"
    }
   ],
   "source": [
    "# Generate a confusion matrix for the model\n",
    "# YOUR CODE HERE!\n",
    "training_matrix = confusion_matrix(y_test, predictions)\n",
    "training_matrix"
   ]
  },
  {
   "cell_type": "code",
   "execution_count": 49,
   "id": "3729ef07",
   "metadata": {},
   "outputs": [
    {
     "name": "stdout",
     "output_type": "stream",
     "text": [
      "                     precision    recall  f1-score   support\n",
      "\n",
      "0_rate_less_than_85       0.99      0.99      0.99      3807\n",
      "1_rate_over_than_85       0.97      0.97      0.97      1340\n",
      "\n",
      "           accuracy                           0.99      5147\n",
      "          macro avg       0.98      0.98      0.98      5147\n",
      "       weighted avg       0.99      0.99      0.99      5147\n",
      "\n"
     ]
    }
   ],
   "source": [
    "# Print the classification report for the model\n",
    "# YOUR CODE HERE!\n",
    "target_names = [\"0_rate_less_than_85\", \"1_rate_over_than_85\"]\n",
    "print(classification_report(y_test, predictions, target_names=target_names))"
   ]
  },
  {
   "cell_type": "code",
   "execution_count": 53,
   "id": "940cc1e8",
   "metadata": {},
   "outputs": [
    {
     "name": "stdout",
     "output_type": "stream",
     "text": [
      "Index(['UNITID', 'CIPCODE', 'CREDLEV', 'DEBT_ALL_STGP_ANY_MEAN',\n",
      "       'EARN_MDN_HI_1YR', 'EARN_MDN_HI_2YR', 'EARN_NE_MDN_3YR',\n",
      "       'EARN_CNTOVER150_3YR', 'EARN_COUNT_NE_3YR', 'employment_rate',\n",
      "       'rate_over85'],\n",
      "      dtype='object')\n"
     ]
    }
   ],
   "source": [
    "print(cleaned_df.columns)"
   ]
  },
  {
   "cell_type": "code",
   "execution_count": 66,
   "id": "c8310849",
   "metadata": {},
   "outputs": [
    {
     "name": "stderr",
     "output_type": "stream",
     "text": [
      "C:\\Users\\atoth\\AppData\\Local\\Temp\\ipykernel_28504\\2885080071.py:25: UserWarning: FixedFormatter should only be used together with FixedLocator\n",
      "  plt.gca().set_yticklabels(degree_labels)\n"
     ]
    },
    {
     "data": {
      "image/png": "[encoded data removed]",
      "text/plain": [
       "<Figure size 1200x600 with 1 Axes>"
      ]
     },
     "metadata": {},
     "output_type": "display_data"
    }
   ],
   "source": [
    "import matplotlib.pyplot as plt\n",
    "\n",
    "# Map degree codes to degree names\n",
    "degree_names = {\n",
    "    1: 'Certificate',\n",
    "    2: \"Associate's Degree\",\n",
    "    3: \"Bachelor's Degree\",\n",
    "    4: \"Post-baccalaureate Certificate\"\n",
    "}\n",
    "\n",
    "# Group the data by degree and calculate the average employment rate\n",
    "degree_groups = cleaned_df.groupby('CREDLEV')['employment_rate'].mean()\n",
    "\n",
    "# Create a list of degree names based on the degree codes\n",
    "degree_labels = [degree_names[code] for code in degree_groups.index]\n",
    "\n",
    "# Plot the average employment rates for each degree\n",
    "plt.figure(figsize=(12, 6))\n",
    "degree_groups.plot(kind='bar', color='skyblue')\n",
    "plt.title('Average Employment Rate by Degree Type')\n",
    "plt.xlabel('Degree Type')\n",
    "plt.ylabel('Average Employment Rate')\n",
    "\n",
    "# Replace the y-axis labels with degree names\n",
    "plt.gca().set_yticklabels(degree_labels)\n",
    "\n",
    "# Format y-axis labels as needed (e.g., with larger numbers)\n",
    "plt.gca().yaxis.set_major_formatter(plt.FuncFormatter(lambda x, _: f'{x:.0%}'))\n",
    "\n",
    "plt.xticks(rotation=45)\n",
    "\n",
    "# Add a legend\n",
    "plt.legend(['Average Employment Rate'])\n",
    "\n",
    "plt.show()\n"
   ]
  },
  {
   "cell_type": "code",
   "execution_count": 67,
   "id": "6918fa4a",
   "metadata": {},
   "outputs": [],
   "source": [
    "cleaned_df.to_csv('cleaned_data-2.csv')"
   ]
  },
  {
   "cell_type": "code",
   "execution_count": 89,
   "id": "196655f1",
   "metadata": {},
   "outputs": [
    {
     "data": {
      "image/png": "[encoded data removed]",
      "text/plain": [
       "<Figure size 640x480 with 1 Axes>"
      ]
     },
     "metadata": {},
     "output_type": "display_data"
    }
   ],
   "source": [
    "import matplotlib.pyplot as plt\n",
    "import matplotlib.cm as cm\n",
    "import numpy as np\n",
    "\n",
    "# Define a colormap with unique colors for each degree category\n",
    "degree_colors = cm.rainbow(np.linspace(0, 1, len(cleaned_df['CREDLEV'].unique())))\n",
    "\n",
    "# Create a dictionary to map degrees to colors\n",
    "degree_color_mapping = {degree: color for degree, color in zip(cleaned_df['CREDLEV'].unique(), degree_colors)}\n",
    "\n",
    "# Create a list of colors corresponding to each data point's degree\n",
    "data_colors = [degree_color_mapping[degree] for degree in cleaned_df['CREDLEV']]\n",
    "\n",
    "# Create the scatter plot using the specified colors\n",
    "scatter = plt.scatter(cleaned_df['EARN_MDN_HI_1YR'], cleaned_df['CREDLEV'], alpha=0.5, c=data_colors)\n",
    "\n",
    "# Add a legend to show the degree categories\n",
    "handles = [plt.Line2D([0], [0], marker='o', color='w', markerfacecolor=degree_color_mapping[degree], markersize=10, label=degree) for degree in cleaned_df['CREDLEV'].unique()]\n",
    "plt.legend(handles=handles, title='Degree Categories')\n",
    "\n",
    "plt.xlabel('Earnings Median 1 Year After Graduation')\n",
    "plt.ylabel('Degree')\n",
    "plt.title('Earnings Median by Degree')\n",
    "plt.show()\n"
   ]
  },
  {
   "cell_type": "code",
   "execution_count": 99,
   "id": "d9763b5e",
   "metadata": {},
   "outputs": [
    {
     "data": {
      "image/png": "[encoded data removed]",
      "text/plain": [
       "<Figure size 800x600 with 1 Axes>"
      ]
     },
     "metadata": {},
     "output_type": "display_data"
    }
   ],
   "source": [
    "plt.figure(figsize=(8, 6))\n",
    "plt.boxplot([cleaned_df[cleaned_df['CREDLEV'] == level]['EARN_CNTOVER150_3YR'] for level in cleaned_df['CREDLEV'].unique()])\n",
    "plt.xlabel('Degrees')\n",
    "plt.ylabel('Earnings')\n",
    "plt.title('Earning More Than 150% Above the Poverty Level After 3 Years')\n",
    "plt.xticks(range(1, len(cleaned_df['CREDLEV'].unique()) + 1), cleaned_df['CREDLEV'].unique(), rotation=45)\n",
    "plt.show()"
   ]
  },
  {
   "cell_type": "code",
   "execution_count": null,
   "id": "05ac08f3",
   "metadata": {},
   "outputs": [],
   "source": []
  }
 ],
 "metadata": {
  "kernelspec": {
   "display_name": "Python (dev)",
   "language": "python",
   "name": "dev"
  },
  "language_info": {
   "codemirror_mode": {
    "name": "ipython",
    "version": 3
   },
   "file_extension": ".py",
   "mimetype": "text/x-python",
   "name": "python",
   "nbconvert_exporter": "python",
   "pygments_lexer": "ipython3",
   "version": "3.10.10"
  }
 },
 "nbformat": 4,
 "nbformat_minor": 5
}
